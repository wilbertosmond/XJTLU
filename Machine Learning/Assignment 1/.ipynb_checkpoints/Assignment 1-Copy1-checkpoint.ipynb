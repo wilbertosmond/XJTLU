{
 "cells": [
  {
   "cell_type": "code",
   "execution_count": 1,
   "metadata": {},
   "outputs": [],
   "source": [
    "import pandas as pd\n",
    "import numpy as np\n",
    "import math\n",
    "\n",
    "## Functions\n",
    "# Function to calculate the total frequency of a certain attribute\n",
    "def calcFreq(listAttributeType):\n",
    "    freq = 0\n",
    "    for i in listAttributeType:\n",
    "        freq = freq + 1\n",
    "    return freq\n",
    "\n",
    "# Function to calculate probability of each type of attributes\n",
    "def calcProb(dataset,classifier):\n",
    "    listAttrType = np.unique(dataset[classifier]) # get a list of types of the attributes\n",
    "    listAttrProb = []\n",
    "    for x in listAttrType:\n",
    "        subdataset = dataset[dataset[classifier]==x] # get sub-dataset containing only each type of attribute\n",
    "        subprob = calcFreq(subdataset['PlayTennis'])/calcFreq(dataset['PlayTennis']) # divide the freq of \"Attribute == type\"\n",
    "                                                                         #over the frequency of total Attribute\n",
    "        listAttrProb.append(subprob)\n",
    "    return listAttrProb\n",
    "\n",
    "# Function to calculate entropy\n",
    "def calcEnt(dataset,classifier):\n",
    "    ent = 0.0\n",
    "    for prob in calcProb(dataset,classifier):\n",
    "        ent = ent + prob * math.log(prob, 2) # log base 2\n",
    "    return -ent\n",
    "\n",
    "# Function to calculate information gain\n",
    "def IG(dataset,A):\n",
    "    \n",
    "    # Make a list of entropy E(S1), E(S2), ... E(Sn)\n",
    "    listAttrType = np.unique(dataset[A]) # get a list of types of the attributes\n",
    "    listEnt = []\n",
    "    for x in listAttrType:\n",
    "        subdataset = dataset[dataset[A]==x] # get sub-dataset containing in which \"Attribute == type\"\n",
    "        ent = calcEnt(subdataset, 'PlayTennis')\n",
    "        listEnt.append(ent)\n",
    "    \n",
    "    # Make a list of probability P1, P2, ..., Pn\n",
    "    listProb = calcProb(dataset,A)\n",
    "    \n",
    "    # Sum of sub-entropy\n",
    "    subEnt = 0.0\n",
    "    for i in range(len(listEnt)):\n",
    "        subEnt = subEnt + listProb[i]*listEnt[i] # Pi*Ent(Si)\n",
    "    \n",
    "    # Information gain\n",
    "    IG = calcEnt(dataset,'PlayTennis') - subEnt # main entropy - sum of sub-entropy\n",
    "    return IG"
   ]
  },
  {
   "cell_type": "code",
   "execution_count": 5,
   "metadata": {},
   "outputs": [],
   "source": []
  },
  {
   "cell_type": "code",
   "execution_count": 25,
   "metadata": {},
   "outputs": [
    {
     "name": "stdout",
     "output_type": "stream",
     "text": [
      "0.2467498197744391\n",
      "0.029222565658954647\n",
      "0.15183550136234136\n",
      "0.04812703040826927\n"
     ]
    }
   ],
   "source": [
    "dfTennisData = pd.read_excel('Tennis data.xlsx') \n",
    "\n",
    "print(IG(dfTennisData,'Outlook'))\n",
    "print(IG(dfTennisData,'Temperature'))\n",
    "print(IG(dfTennisData,'Humidity'))\n",
    "print(IG(dfTennisData,'Wind'))"
   ]
  },
  {
   "cell_type": "code",
   "execution_count": 168,
   "metadata": {},
   "outputs": [
    {
     "name": "stdout",
     "output_type": "stream",
     "text": [
      "[0.25567765567765566, 0.20146520146520147, 0.5428571428571428]\n",
      "0.9718012324831182\n",
      "0.8654036268680916\n"
     ]
    }
   ],
   "source": [
    "print(calcProb(dataPassangerSurvival, 'Class'))\n",
    "print(calcEnt(dataPassangerSurvival, 'Survived'))\n",
    "print(calcEnt(class3, 'Survived'))"
   ]
  },
  {
   "cell_type": "code",
   "execution_count": 209,
   "metadata": {},
   "outputs": [],
   "source": [
    "dfTennisData = pd.read_excel('Tennis data.xlsx') \n",
    "A = ['Outlook','Temperature','Humidity','Wind']\n",
    "\n",
    "def ID3(dataset, classifier, attrNames, classDefault = None):\n",
    "    valueUnique = dataset[classifier].unique();\n",
    "    \n",
    "    # Scenario 1: Homogeneous dataset\n",
    "    if len(valueUnique) == 1:\n",
    "        return next(iter(valueUnique)) # Next input dataset, or raises StopIteration when EOF is hit\n",
    "    \n",
    "    # Scenario 2: Empty dataset\n",
    "    elif dataset.empty or (not attrNames):\n",
    "        return classDefault # Return None for empty dataset\n",
    "    \n",
    "    else:\n",
    "        Npos = calcFreq(dataset[dataset[classifier] == \"Yes\"][classifier])\n",
    "        Nneg = calcFreq(dataset[dataset[classifier] == \"No\"][classifier])\n",
    "        \n",
    "        # Return majority value in Classifier\n",
    "        if(Npos>Nneg):\n",
    "            classDefault = Npos\n",
    "        else:\n",
    "            classDefault = Nneg\n",
    "        \n",
    "        # IG for each attribute:\n",
    "        listIG = []\n",
    "        for attr in attrNames:\n",
    "            listIG.append(IG(dataset,attr))\n",
    "        \n",
    "        # Choose highest attribute to split on\n",
    "        indexMax = listIG.index(max(listIG)) # Index of best attribute\n",
    "        attrMax = A[indexMax]\n",
    "        \n",
    "        # Create an empty tree, soon to be populated\n",
    "        tree = {attrMax:{}} # Initiate the tree with the best attribute as a node\n",
    "        attrNames.remove(attrMax) # Remove the best attribute from the attribute list\n",
    "        #rest_attribute_names = [i for i in attrNames if i != attrMax]\n",
    "        \n",
    "        for attrType, dataSubset in dataset.groupby(attrMax):\n",
    "            subtree = ID3(dataSubset, classifier, attrNames)\n",
    "            tree[attrMax][attrType] = subtree\n",
    "        return tree"
   ]
  },
  {
   "cell_type": "code",
   "execution_count": 210,
   "metadata": {},
   "outputs": [
    {
     "name": "stdout",
     "output_type": "stream",
     "text": [
      "{'Outlook': {'Overcast': 'Yes',\n",
      "             'Rain': {'Wind': {'Strong': 'No', 'Weak': 'Yes'}},\n",
      "             'Sunny': {'Humidity': {'High': 'No', 'Normal': 'Yes'}}}}\n"
     ]
    }
   ],
   "source": [
    "from pprint import pprint\n",
    "tree = ID3(dfTennisData, 'PlayTennis', A)\n",
    "pprint(tree)"
   ]
  },
  {
   "cell_type": "code",
   "execution_count": null,
   "metadata": {},
   "outputs": [],
   "source": []
  }
 ],
 "metadata": {
  "kernelspec": {
   "display_name": "Python 3",
   "language": "python",
   "name": "python3"
  },
  "language_info": {
   "codemirror_mode": {
    "name": "ipython",
    "version": 3
   },
   "file_extension": ".py",
   "mimetype": "text/x-python",
   "name": "python",
   "nbconvert_exporter": "python",
   "pygments_lexer": "ipython3",
   "version": "3.7.3"
  }
 },
 "nbformat": 4,
 "nbformat_minor": 2
}
