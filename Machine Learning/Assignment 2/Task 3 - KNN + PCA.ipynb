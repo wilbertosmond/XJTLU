{
 "cells": [
  {
   "cell_type": "code",
   "execution_count": 127,
   "metadata": {},
   "outputs": [
    {
     "name": "stdout",
     "output_type": "stream",
     "text": [
      "0.9736842105263158\n"
     ]
    }
   ],
   "source": [
    "# importing necessary libraries \n",
    "from sklearn import datasets \n",
    "from sklearn.model_selection import train_test_split \n",
    "from sklearn.neighbors import KNeighborsClassifier \n",
    "from sklearn.preprocessing import StandardScaler\n",
    "  \n",
    "# loading the iris dataset \n",
    "iris = datasets.load_iris() \n",
    "\n",
    "# X -> features, y -> label \n",
    "X = iris.data \n",
    "y = iris.target \n",
    "  \n",
    "# dividing X, y into train and test data \n",
    "x_train, x_test, y_train, y_test = train_test_split(X, y, random_state=0) \n",
    "\n",
    "# training a KNN classifier \n",
    "knn = KNeighborsClassifier(n_neighbors = 5).fit(x_train, y_train) \n",
    "  \n",
    "# accuracy on X_test \n",
    "accuracy = knn.score(x_test, y_test) \n",
    "print(accuracy) "
   ]
  },
  {
   "cell_type": "code",
   "execution_count": 67,
   "metadata": {},
   "outputs": [
    {
     "name": "stdout",
     "output_type": "stream",
     "text": [
      "[[13  0  0]\n",
      " [ 0 15  1]\n",
      " [ 0  0  9]]\n",
      "              precision    recall  f1-score   support\n",
      "\n",
      "           0       1.00      1.00      1.00        13\n",
      "           1       1.00      0.94      0.97        16\n",
      "           2       0.90      1.00      0.95         9\n",
      "\n",
      "    accuracy                           0.97        38\n",
      "   macro avg       0.97      0.98      0.97        38\n",
      "weighted avg       0.98      0.97      0.97        38\n",
      "\n"
     ]
    }
   ],
   "source": [
    "y_pred = knn.predict(x_test)\n",
    "\n",
    "from sklearn.metrics import classification_report, confusion_matrix\n",
    "print(confusion_matrix(y_test, y_pred))\n",
    "print(classification_report(y_test, y_pred))"
   ]
  },
  {
   "cell_type": "code",
   "execution_count": 120,
   "metadata": {},
   "outputs": [
    {
     "name": "stdout",
     "output_type": "stream",
     "text": [
      "0.9736842105263158\n"
     ]
    }
   ],
   "source": [
    "# importing necessary libraries \n",
    "from sklearn import datasets \n",
    "from sklearn.model_selection import train_test_split \n",
    "from sklearn.neighbors import KNeighborsClassifier \n",
    "from sklearn.preprocessing import StandardScaler\n",
    "  \n",
    "# loading the iris dataset \n",
    "iris = datasets.load_iris() \n",
    "\n",
    "# X -> features, y -> label \n",
    "X = iris.data \n",
    "y = iris.target \n",
    "  \n",
    "# dividing X, y into train and test data \n",
    "x_train, x_test, y_train, y_test = train_test_split(X, y, random_state = 0) \n",
    "\n",
    "### reduce dimension with PCA ------------------------------------------------\n",
    "#standardize data\n",
    "sc = StandardScaler().fit(x_train)\n",
    "X_std_train = sc.transform(x_train)\n",
    "X_std_test = sc.transform(x_test)\n",
    "\n",
    "#If n_components is not set then all components are stored \n",
    "sklearn_pca = PCA().fit(X_std_train)\n",
    "\n",
    "#choose 3 components\n",
    "sklearn_pca = PCA(n_components=3)\n",
    "x_train_pca = sklearn_pca.fit_transform(X_std_train) \n",
    "x_test_pca = sklearn_pca.transform(X_std_test)\n",
    "\n",
    "### -------------------------------------------------------------------------\n",
    "\n",
    "# training a KNN classifier \n",
    "knn = KNeighborsClassifier(n_neighbors = 5).fit(x_train_pca, y_train) \n",
    "  \n",
    "# accuracy on X_test \n",
    "accuracy = knn.score(x_test_pca, y_test) \n",
    "print(accuracy) "
   ]
  },
  {
   "cell_type": "code",
   "execution_count": 60,
   "metadata": {},
   "outputs": [
    {
     "name": "stdout",
     "output_type": "stream",
     "text": [
      "[[13  0  0]\n",
      " [ 0 15  1]\n",
      " [ 0  0  9]]\n",
      "              precision    recall  f1-score   support\n",
      "\n",
      "           0       1.00      1.00      1.00        13\n",
      "           1       1.00      0.94      0.97        16\n",
      "           2       0.90      1.00      0.95         9\n",
      "\n",
      "    accuracy                           0.97        38\n",
      "   macro avg       0.97      0.98      0.97        38\n",
      "weighted avg       0.98      0.97      0.97        38\n",
      "\n"
     ]
    }
   ],
   "source": [
    "y_pred = knn.predict(x_test_pca)\n",
    "\n",
    "from sklearn.metrics import classification_report, confusion_matrix\n",
    "print(confusion_matrix(y_test, y_pred))\n",
    "print(classification_report(y_test, y_pred))"
   ]
  },
  {
   "cell_type": "code",
   "execution_count": 121,
   "metadata": {},
   "outputs": [
    {
     "name": "stdout",
     "output_type": "stream",
     "text": [
      "Accuracy:  0.868421052631579\n"
     ]
    }
   ],
   "source": [
    "## PC 1\n",
    "PC1_train = x_train_pca[:,[0]]\n",
    "PC1_test = x_test_pca[:,[0]]\n",
    "knn = KNeighborsClassifier(n_neighbors = 5).fit(PC1_train, y_train) \n",
    "score=knn.score(PC1_test,y_test)\n",
    "print(\"Accuracy: \",score)"
   ]
  },
  {
   "cell_type": "code",
   "execution_count": 123,
   "metadata": {},
   "outputs": [
    {
     "name": "stdout",
     "output_type": "stream",
     "text": [
      "Accuracy:  0.2894736842105263\n"
     ]
    }
   ],
   "source": [
    "## PC 2\n",
    "PC2_train = x_train_pca[:,[1]]\n",
    "PC2_test = x_test_pca[:,[1]]\n",
    "knn = KNeighborsClassifier(n_neighbors = 5).fit(PC2_train, y_train) \n",
    "score=knn.score(PC2_test,y_test)\n",
    "print(\"Accuracy: \",score)"
   ]
  },
  {
   "cell_type": "code",
   "execution_count": 125,
   "metadata": {},
   "outputs": [
    {
     "name": "stdout",
     "output_type": "stream",
     "text": [
      "Accuracy:  0.3684210526315789\n"
     ]
    }
   ],
   "source": [
    "## PC 3\n",
    "PC3_train = x_train_pca[:,[2]]\n",
    "PC3_test = x_test_pca[:,[2]]\n",
    "knn = KNeighborsClassifier(n_neighbors = 5).fit(PC3_train, y_train) \n",
    "score=knn.score(PC3_test,y_test)\n",
    "print(\"Accuracy: \",score)"
   ]
  },
  {
   "cell_type": "code",
   "execution_count": null,
   "metadata": {},
   "outputs": [],
   "source": []
  }
 ],
 "metadata": {
  "kernelspec": {
   "display_name": "Python 3",
   "language": "python",
   "name": "python3"
  },
  "language_info": {
   "codemirror_mode": {
    "name": "ipython",
    "version": 3
   },
   "file_extension": ".py",
   "mimetype": "text/x-python",
   "name": "python",
   "nbconvert_exporter": "python",
   "pygments_lexer": "ipython3",
   "version": "3.7.3"
  }
 },
 "nbformat": 4,
 "nbformat_minor": 2
}
