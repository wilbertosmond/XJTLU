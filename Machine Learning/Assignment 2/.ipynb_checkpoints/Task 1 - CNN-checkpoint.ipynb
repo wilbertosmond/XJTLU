{
 "cells": [
  {
   "cell_type": "code",
   "execution_count": 2,
   "metadata": {},
   "outputs": [],
   "source": [
    "## Generate csv files from the original data.\n",
    "# The format is:\n",
    "# label, pix-11, pix-12, pix-13, ...\n",
    "# where pix-ij is the pixel in the ith row and jth column.\n",
    "# label range (0,9), i.e. the digit depicted in the image\n",
    "# pix range (0,255), where j is up to 784 corresponding to the pixels of the 28 x 28 image\n",
    "\n",
    "def convert(imgf, labelf, outf, n):\n",
    "    f = open(imgf, \"rb\")\n",
    "    o = open(outf, \"w\")\n",
    "    l = open(labelf, \"rb\")\n",
    "\n",
    "    f.read(16)\n",
    "    l.read(8)\n",
    "    images = []\n",
    "\n",
    "    for i in range(n):\n",
    "        image = [ord(l.read(1))]\n",
    "        for j in range(28*28):\n",
    "            image.append(ord(f.read(1)))\n",
    "        images.append(image)\n",
    "\n",
    "    for image in images:\n",
    "        o.write(\",\".join(str(pix) for pix in image)+\"\\n\")\n",
    "    f.close()\n",
    "    o.close()\n",
    "    l.close()\n",
    "\n",
    "convert(\"train-images-idx3-ubyte\", \"train-labels-idx1-ubyte\",\n",
    "        \"mnist_train.csv\", 60000)\n",
    "convert(\"t10k-images-idx3-ubyte\", \"t10k-labels-idx1-ubyte\",\n",
    "        \"mnist_test.csv\", 10000)"
   ]
  },
  {
   "cell_type": "code",
   "execution_count": null,
   "metadata": {},
   "outputs": [],
   "source": []
  }
 ],
 "metadata": {
  "kernelspec": {
   "display_name": "Python 3",
   "language": "python",
   "name": "python3"
  },
  "language_info": {
   "codemirror_mode": {
    "name": "ipython",
    "version": 3
   },
   "file_extension": ".py",
   "mimetype": "text/x-python",
   "name": "python",
   "nbconvert_exporter": "python",
   "pygments_lexer": "ipython3",
   "version": "3.7.3"
  }
 },
 "nbformat": 4,
 "nbformat_minor": 2
}
